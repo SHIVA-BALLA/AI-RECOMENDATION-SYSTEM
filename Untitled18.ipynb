{
 "cells": [
  {
   "cell_type": "code",
   "execution_count": 1,
   "id": "136f6f70-d935-4191-8521-efb67b457af2",
   "metadata": {},
   "outputs": [],
   "source": [
    "import requests\n",
    "import pandas as pd\n",
    "import numpy as np\n",
    "from sklearn.preprocessing import LabelEncoder\n",
    "import matplotlib.pyplot as plt\n",
    "import seaborn as sns\n",
    "\n"
   ]
  },
  {
   "cell_type": "code",
   "execution_count": 2,
   "id": "abb5cd77-64aa-4db9-abb1-14f7ed4f5ec8",
   "metadata": {},
   "outputs": [
    {
     "name": "stdout",
     "output_type": "stream",
     "text": [
      "Quiz Data:\n",
      "   quiz.id quiz.name                                         quiz.title  \\\n",
      "0       43      None  Structural Organisation in Animals and Plants (7)   \n",
      "\n",
      "  quiz.description quiz.difficulty_level                          quiz.topic  \\\n",
      "0                                   None  Structural Organisation in Animals   \n",
      "\n",
      "                       quiz.time  quiz.is_published  \\\n",
      "0  2024-07-03T00:00:00.000+05:30               True   \n",
      "\n",
      "                 quiz.created_at                quiz.updated_at  ...  \\\n",
      "0  2024-07-03T11:00:08.958+05:30  2024-09-23T18:43:27.751+05:30  ...   \n",
      "\n",
      "   quiz.exam_id quiz.show_unanswered quiz.ends_at quiz.lives  quiz.live_count  \\\n",
      "0          None                False   2025-01-18       None        Free Test   \n",
      "\n",
      "   quiz.coin_count  quiz.questions_count   quiz.daily_date  \\\n",
      "0               -1                   128  January 17, 2025   \n",
      "\n",
      "   quiz.max_mistake_count                                     quiz.questions  \n",
      "0                      15  [{'id': 1827, 'description': 'The tissue which...  \n",
      "\n",
      "[1 rows x 32 columns]\n",
      "\n",
      "Submission Data:\n",
      "   statusCode                  error                            message\n",
      "0         500  Internal Server Error  An internal server error occurred\n",
      "\n",
      "Historical Data:\n",
      "       id  quiz_id                       user_id  \\\n",
      "0  336497       51  YcDFSO4ZukTJnnFMgRNVwZTE4j42   \n",
      "1  336448        6  YcDFSO4ZukTJnnFMgRNVwZTE4j42   \n",
      "2  333330       51  YcDFSO4ZukTJnnFMgRNVwZTE4j42   \n",
      "3  333242        6  YcDFSO4ZukTJnnFMgRNVwZTE4j42   \n",
      "4  329504       51  YcDFSO4ZukTJnnFMgRNVwZTE4j42   \n",
      "\n",
      "                    submitted_at                     created_at  \\\n",
      "0  2025-01-17T15:30:18.027+05:30  2025-01-17T15:30:18.044+05:30   \n",
      "1  2025-01-17T15:17:44.042+05:30  2025-01-17T15:17:44.056+05:30   \n",
      "2  2025-01-16T20:13:19.682+05:30  2025-01-16T20:13:19.699+05:30   \n",
      "3  2025-01-16T20:00:11.562+05:30  2025-01-16T20:00:11.573+05:30   \n",
      "4  2025-01-15T20:34:39.462+05:30  2025-01-15T20:34:39.478+05:30   \n",
      "\n",
      "                      updated_at  score  trophy_level accuracy speed  ...  \\\n",
      "0  2025-01-17T15:30:18.044+05:30    108             2     90 %   100  ...   \n",
      "1  2025-01-17T15:17:44.056+05:30     92             1    100 %   100  ...   \n",
      "2  2025-01-16T20:13:19.699+05:30    116             2     96 %   100  ...   \n",
      "3  2025-01-16T20:00:11.573+05:30     36             2     90 %   100  ...   \n",
      "4  2025-01-15T20:34:39.478+05:30     36             3     31 %    96  ...   \n",
      "\n",
      "  response_map.3194 response_map.2417  response_map.2425  response_map.2435  \\\n",
      "0               NaN               NaN                NaN                NaN   \n",
      "1               NaN               NaN                NaN                NaN   \n",
      "2               NaN               NaN                NaN                NaN   \n",
      "3               NaN               NaN                NaN                NaN   \n",
      "4               NaN               NaN                NaN                NaN   \n",
      "\n",
      "  response_map.2440 response_map.2444 response_map.2452 response_map.2459  \\\n",
      "0               NaN               NaN               NaN               NaN   \n",
      "1               NaN               NaN               NaN               NaN   \n",
      "2               NaN               NaN               NaN               NaN   \n",
      "3               NaN               NaN               NaN               NaN   \n",
      "4               NaN               NaN               NaN               NaN   \n",
      "\n",
      "  response_map.2469  response_map.2515  \n",
      "0               NaN                NaN  \n",
      "1               NaN                NaN  \n",
      "2               NaN                NaN  \n",
      "3               NaN                NaN  \n",
      "4               NaN                NaN  \n",
      "\n",
      "[5 rows x 287 columns]\n"
     ]
    }
   ],
   "source": [
    "import urllib3\n",
    "urllib3.disable_warnings(urllib3.exceptions.InsecureRequestWarning)\n",
    "quiz_endpoint = \"https://jsonkeeper.com/b/LLQT\"\n",
    "quiz_submission_data = \"https://api.jsonserve.com/rJvd7\"\n",
    "historical_data_endpoint = \"https://api.jsonserve.com/XgAgFJ\"\n",
    "quiz_data = requests.get(quiz_endpoint, verify=False).json()\n",
    "submission_data = requests.get(quiz_submission_data, verify=False).json()\n",
    "historical_data = requests.get(historical_data_endpoint, verify=False).json()\n",
    "quiz_df = pd.json_normalize(quiz_data)\n",
    "submission_df = pd.json_normalize(submission_data)\n",
    "historical_df = pd.json_normalize(historical_data)\n",
    "print(\"Quiz Data:\")\n",
    "print(quiz_df.head())\n",
    "print(\"\\nSubmission Data:\")\n",
    "print(submission_df.head())\n",
    "print(\"\\nHistorical Data:\")\n",
    "print(historical_df.head())\n"
   ]
  },
  {
   "cell_type": "code",
   "execution_count": 3,
   "id": "e0f580b8-3fd0-4a15-aabc-a253f504b427",
   "metadata": {},
   "outputs": [
    {
     "name": "stdout",
     "output_type": "stream",
     "text": [
      "Missing values in Quiz Data:\n",
      " quiz.id                      0\n",
      "quiz.name                    1\n",
      "quiz.title                   0\n",
      "quiz.description             0\n",
      "quiz.difficulty_level        1\n",
      "quiz.topic                   0\n",
      "quiz.time                    0\n",
      "quiz.is_published            0\n",
      "quiz.created_at              0\n",
      "quiz.updated_at              0\n",
      "quiz.duration                0\n",
      "quiz.end_time                0\n",
      "quiz.negative_marks          0\n",
      "quiz.correct_answer_marks    0\n",
      "quiz.shuffle                 0\n",
      "quiz.show_answers            0\n",
      "quiz.lock_solutions          0\n",
      "quiz.is_form                 0\n",
      "quiz.show_mastery_option     0\n",
      "quiz.quiz_type               1\n",
      "quiz.is_custom               0\n",
      "quiz.banner_id               1\n",
      "quiz.exam_id                 1\n",
      "quiz.show_unanswered         0\n",
      "quiz.ends_at                 0\n",
      "quiz.lives                   1\n",
      "quiz.live_count              0\n",
      "quiz.coin_count              0\n",
      "quiz.questions_count         0\n",
      "quiz.daily_date              0\n",
      "quiz.max_mistake_count       0\n",
      "quiz.questions               0\n",
      "dtype: int64\n",
      "Missing values in Submission Data:\n",
      " statusCode    0\n",
      "error         0\n",
      "message       0\n",
      "dtype: int64\n",
      "Missing values in Historical Data:\n",
      " id                    0\n",
      "quiz_id               0\n",
      "user_id               0\n",
      "submitted_at          0\n",
      "created_at            0\n",
      "                     ..\n",
      "response_map.2444    13\n",
      "response_map.2452    13\n",
      "response_map.2459    13\n",
      "response_map.2469    13\n",
      "response_map.2515    13\n",
      "Length: 287, dtype: int64\n",
      "<class 'pandas.core.frame.DataFrame'>\n",
      "RangeIndex: 1 entries, 0 to 0\n",
      "Data columns (total 32 columns):\n",
      " #   Column                     Non-Null Count  Dtype \n",
      "---  ------                     --------------  ----- \n",
      " 0   quiz.id                    1 non-null      int64 \n",
      " 1   quiz.name                  1 non-null      object\n",
      " 2   quiz.title                 1 non-null      object\n",
      " 3   quiz.description           1 non-null      object\n",
      " 4   quiz.difficulty_level      1 non-null      object\n",
      " 5   quiz.topic                 1 non-null      object\n",
      " 6   quiz.time                  1 non-null      object\n",
      " 7   quiz.is_published          1 non-null      bool  \n",
      " 8   quiz.created_at            1 non-null      object\n",
      " 9   quiz.updated_at            1 non-null      object\n",
      " 10  quiz.duration              1 non-null      int64 \n",
      " 11  quiz.end_time              1 non-null      object\n",
      " 12  quiz.negative_marks        1 non-null      object\n",
      " 13  quiz.correct_answer_marks  1 non-null      object\n",
      " 14  quiz.shuffle               1 non-null      bool  \n",
      " 15  quiz.show_answers          1 non-null      bool  \n",
      " 16  quiz.lock_solutions        1 non-null      bool  \n",
      " 17  quiz.is_form               1 non-null      bool  \n",
      " 18  quiz.show_mastery_option   1 non-null      bool  \n",
      " 19  quiz.quiz_type             1 non-null      object\n",
      " 20  quiz.is_custom             1 non-null      bool  \n",
      " 21  quiz.banner_id             1 non-null      object\n",
      " 22  quiz.exam_id               1 non-null      object\n",
      " 23  quiz.show_unanswered       1 non-null      bool  \n",
      " 24  quiz.ends_at               1 non-null      object\n",
      " 25  quiz.lives                 1 non-null      object\n",
      " 26  quiz.live_count            1 non-null      object\n",
      " 27  quiz.coin_count            1 non-null      int64 \n",
      " 28  quiz.questions_count       1 non-null      int64 \n",
      " 29  quiz.daily_date            1 non-null      object\n",
      " 30  quiz.max_mistake_count     1 non-null      int64 \n",
      " 31  quiz.questions             1 non-null      object\n",
      "dtypes: bool(8), int64(5), object(19)\n",
      "memory usage: 332.0+ bytes\n",
      "None\n",
      "<class 'pandas.core.frame.DataFrame'>\n",
      "RangeIndex: 1 entries, 0 to 0\n",
      "Data columns (total 3 columns):\n",
      " #   Column      Non-Null Count  Dtype \n",
      "---  ------      --------------  ----- \n",
      " 0   statusCode  1 non-null      int64 \n",
      " 1   error       1 non-null      object\n",
      " 2   message     1 non-null      object\n",
      "dtypes: int64(1), object(2)\n",
      "memory usage: 156.0+ bytes\n",
      "None\n",
      "<class 'pandas.core.frame.DataFrame'>\n",
      "RangeIndex: 14 entries, 0 to 13\n",
      "Columns: 287 entries, id to response_map.2515\n",
      "dtypes: bool(8), int64(15), object(264)\n",
      "memory usage: 30.8+ KB\n",
      "None\n"
     ]
    },
    {
     "name": "stderr",
     "output_type": "stream",
     "text": [
      "C:\\Users\\shiva\\AppData\\Local\\Temp\\ipykernel_13240\\2727179139.py:6: FutureWarning: Setting an item of incompatible dtype is deprecated and will raise in a future error of pandas. Value 'Unknown' has dtype incompatible with float64, please explicitly cast to a compatible dtype first.\n",
      "  historical_df.fillna(\"Unknown\", inplace=True)\n"
     ]
    }
   ],
   "source": [
    "\n",
    "print(\"Missing values in Quiz Data:\\n\", quiz_df.isnull().sum())\n",
    "print(\"Missing values in Submission Data:\\n\", submission_df.isnull().sum())\n",
    "print(\"Missing values in Historical Data:\\n\", historical_df.isnull().sum())\n",
    "quiz_df.fillna(\"Unknown\", inplace=True)\n",
    "submission_df.fillna(\"Unknown\", inplace=True)\n",
    "historical_df.fillna(\"Unknown\", inplace=True)\n",
    "print(quiz_df.info())\n",
    "print(submission_df.info())\n",
    "print(historical_df.info())\n"
   ]
  },
  {
   "cell_type": "code",
   "execution_count": 4,
   "id": "537c5acd-0782-4396-9c7f-1bea92839446",
   "metadata": {},
   "outputs": [
    {
     "name": "stdout",
     "output_type": "stream",
     "text": [
      "Weak Topics:\n",
      "    quiz_id  score\n",
      "2       20   12.0\n",
      "5       50   24.0\n",
      "7       57   40.0\n"
     ]
    },
    {
     "name": "stderr",
     "output_type": "stream",
     "text": [
      "C:\\ProgramData\\anaconda3\\Lib\\site-packages\\seaborn\\_oldcore.py:1498: FutureWarning: is_categorical_dtype is deprecated and will be removed in a future version. Use isinstance(dtype, CategoricalDtype) instead\n",
      "  if pd.api.types.is_categorical_dtype(vector):\n",
      "C:\\ProgramData\\anaconda3\\Lib\\site-packages\\seaborn\\_oldcore.py:1498: FutureWarning: is_categorical_dtype is deprecated and will be removed in a future version. Use isinstance(dtype, CategoricalDtype) instead\n",
      "  if pd.api.types.is_categorical_dtype(vector):\n",
      "C:\\ProgramData\\anaconda3\\Lib\\site-packages\\seaborn\\_oldcore.py:1119: FutureWarning: use_inf_as_na option is deprecated and will be removed in a future version. Convert inf values to NaN before operating instead.\n",
      "  with pd.option_context('mode.use_inf_as_na', True):\n",
      "C:\\ProgramData\\anaconda3\\Lib\\site-packages\\seaborn\\_oldcore.py:1119: FutureWarning: use_inf_as_na option is deprecated and will be removed in a future version. Convert inf values to NaN before operating instead.\n",
      "  with pd.option_context('mode.use_inf_as_na', True):\n"
     ]
    },
    {
     "data": {
      "image/png": "[encoded data removed]",
      "text/plain": [
       "<Figure size 1000x600 with 1 Axes>"
      ]
     },
     "metadata": {},
     "output_type": "display_data"
    }
   ],
   "source": [
    "topic_performance = historical_df.groupby('quiz_id')['score'].mean().reset_index()\n",
    "difficulty_performance = historical_df.groupby('trophy_level')['score'].mean().reset_index()\n",
    "weak_topics = topic_performance.sort_values(by='score').head(3)\n",
    "print(\"Weak Topics:\\n\", weak_topics)   \n",
    "historical_df['date'] = pd.to_datetime(historical_df['submitted_at'])\n",
    "trend = historical_df.groupby('date')['score'].mean().reset_index()\n",
    "plt.figure(figsize=(10, 6))\n",
    "sns.lineplot(data=trend, x='date', y='score')\n",
    "plt.title(\"Performance Trend Over Time\")\n",
    "plt.xlabel(\"Date\")\n",
    "plt.ylabel(\"Average Score\")\n",
    "plt.show()\n"
   ]
  },
  {
   "cell_type": "code",
   "execution_count": 5,
   "id": "933406b0-2842-4905-aedf-0a824ad4df96",
   "metadata": {},
   "outputs": [
    {
     "name": "stdout",
     "output_type": "stream",
     "text": [
      "Personalized Recommendations:\n",
      " {'Weak Topics': [20, 50, 57], 'Challenging Difficulty Levels': [3], 'Actionable Steps': ['Focus on practicing questions from the weak topics.', 'Attempt quizzes with medium difficulty level to gradually improve.', 'Review incorrect answers from the historical data.']}\n"
     ]
    }
   ],
   "source": [
    "\n",
    "def generate_recommendations(historical_df, quiz_df):\n",
    "    weak_topics = historical_df.groupby('quiz_id')['score'].mean().nsmallest(3).index.tolist()\n",
    "    difficulty_challenges = historical_df.groupby('trophy_level')['score'].mean().nsmallest(1).index.tolist()\n",
    "    recommendations = {\n",
    "        \"Weak Topics\": weak_topics,\n",
    "        \"Challenging Difficulty Levels\": difficulty_challenges,\n",
    "        \"Actionable Steps\": [\n",
    "            \"Focus on practicing questions from the weak topics.\",\n",
    "            \"Attempt quizzes with medium difficulty level to gradually improve.\",\n",
    "            \"Review incorrect answers from the historical data.\"\n",
    "        ]\n",
    "    }\n",
    "    return recommendations\n",
    "\n",
    "recommendations = generate_recommendations(historical_df, quiz_df)\n",
    "print(\"Personalized Recommendations:\\n\", recommendations)\n"
   ]
  },
  {
   "cell_type": "code",
   "execution_count": 6,
   "id": "c4e29040-ed82-47ca-9b26-6740de35fe90",
   "metadata": {},
   "outputs": [
    {
     "name": "stdout",
     "output_type": "stream",
     "text": [
      "Student Persona: Consistent Learner: Focus on weak areas to excel.\n"
     ]
    }
   ],
   "source": [
    "\n",
    "def define_persona(historical_df):\n",
    "    avg_score = historical_df['score'].mean()\n",
    "    if avg_score > 80:\n",
    "        return \"Top Performer: Keep up the great work!\"\n",
    "    elif avg_score > 50:\n",
    "        return \"Consistent Learner: Focus on weak areas to excel.\"\n",
    "    else:\n",
    "        return \"Need Improvement: Dedicate more time to practice.\"\n",
    "\n",
    "persona = define_persona(historical_df)\n",
    "print(\"Student Persona:\", persona)\n"
   ]
  },
  {
   "cell_type": "code",
   "execution_count": 8,
   "id": "f608a39f-e264-4b10-a698-b3daf32b781b",
   "metadata": {},
   "outputs": [],
   "source": [
    "\n",
    "historical_df['accuracy'] = historical_df['accuracy'].str.replace('%', '').astype(float)\n",
    "historical_df['accuracy'] = pd.to_numeric(historical_df['accuracy'], errors='coerce')\n",
    "historical_df = historical_df.dropna(subset=['accuracy'])\n"
   ]
  },
  {
   "cell_type": "code",
   "execution_count": 9,
   "id": "c2c72ad3-a32b-4587-b173-d5052b42d63c",
   "metadata": {},
   "outputs": [
    {
     "name": "stdout",
     "output_type": "stream",
     "text": [
      "float64\n",
      "0     90.0\n",
      "1    100.0\n",
      "2     96.0\n",
      "3     90.0\n",
      "4     31.0\n",
      "Name: accuracy, dtype: float64\n"
     ]
    }
   ],
   "source": [
    "print(historical_df['accuracy'].dtype)\n",
    "print(historical_df['accuracy'].head())\n"
   ]
  },
  {
   "cell_type": "code",
   "execution_count": 10,
   "id": "a5a3b174-a8a9-4e66-885a-61c4aacd36f4",
   "metadata": {},
   "outputs": [],
   "source": [
    "topic_accuracy = historical_df.groupby('quiz_id')['accuracy'].mean().reset_index()\n"
   ]
  },
  {
   "cell_type": "code",
   "execution_count": 12,
   "id": "4217a46f-10d3-4db2-9e43-88bdde505f75",
   "metadata": {},
   "outputs": [
    {
     "data": {
      "image/png": "[encoded data removed]",
      "text/plain": [
       "<Figure size 1200x600 with 1 Axes>"
      ]
     },
     "metadata": {},
     "output_type": "display_data"
    }
   ],
   "source": [
    "plt.figure(figsize=(12, 6))\n",
    "sns.barplot(data=topic_accuracy, x='quiz_id', y='accuracy', palette='viridis')\n",
    "plt.title(\"Top Topics by Accuracy\")\n",
    "plt.xticks(rotation=45)\n",
    "plt.xlabel(\"Topic\")\n",
    "plt.ylabel(\"Accuracy\")\n",
    "plt.show()"
   ]
  },
  {
   "cell_type": "code",
   "execution_count": 13,
   "id": "72fcda1e-efe2-4092-8d61-be23234e35b2",
   "metadata": {},
   "outputs": [
    {
     "name": "stdout",
     "output_type": "stream",
     "text": [
      "Recommendations saved to 'recommendations.json'\n"
     ]
    }
   ],
   "source": [
    "\n",
    "import json\n",
    "\n",
    "with open(\"recommendations.json\", \"w\") as f:\n",
    "    json.dump(recommendations, f)\n",
    "\n",
    "print(\"Recommendations saved to 'recommendations.json'\")\n"
   ]
  },
  {
   "cell_type": "code",
   "execution_count": null,
   "id": "520e748c-6f6a-4736-b02c-dcfda2a798d8",
   "metadata": {},
   "outputs": [],
   "source": []
  }
 ],
 "metadata": {
  "kernelspec": {
   "display_name": "Python 3 (ipykernel)",
   "language": "python",
   "name": "python3"
  },
  "language_info": {
   "codemirror_mode": {
    "name": "ipython",
    "version": 3
   },
   "file_extension": ".py",
   "mimetype": "text/x-python",
   "name": "python",
   "nbconvert_exporter": "python",
   "pygments_lexer": "ipython3",
   "version": "3.11.5"
  }
 },
 "nbformat": 4,
 "nbformat_minor": 5
}
